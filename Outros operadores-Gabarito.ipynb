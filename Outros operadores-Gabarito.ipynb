{
 "cells": [
  {
   "cell_type": "code",
   "execution_count": null,
   "id": "70ad71ae",
   "metadata": {},
   "outputs": [],
   "source": [
    "informacoes = [\n",
    "    \"http://hashtagtreinamentos.com\", \n",
    "    \"https://vimeo.com/\",\n",
    "    \"https://youtube.com/\",\n",
    "    \"Pesquisar no Google: http://google.com\",\n",
    "    \"http://wikipedia.org\",\n",
    "    \"http://google.com\",\n",
    "    \"http://bcb.gov.br/\",\n",
    "    \"Pesquisar no Bing\",\n",
    "]"
   ]
  },
  {
   "cell_type": "markdown",
   "id": "8994ecaa",
   "metadata": {},
   "source": [
    "- ^ – buscar elementos no início da string;"
   ]
  },
  {
   "cell_type": "code",
   "execution_count": null,
   "id": "f84e5640",
   "metadata": {},
   "outputs": [],
   "source": [
    "import re\n",
    "\n",
    "padrao = re.compile(r\"^http\")\n",
    "for item in informacoes:\n",
    "    print(item)\n",
    "    resultado = re.findall(padrao, item)\n",
    "    print(resultado)"
   ]
  },
  {
   "cell_type": "markdown",
   "id": "606d77de",
   "metadata": {},
   "source": [
    "- $ – buscar elementos no final da string;"
   ]
  },
  {
   "cell_type": "code",
   "execution_count": null,
   "id": "8811c433",
   "metadata": {},
   "outputs": [],
   "source": [
    "import re\n",
    "\n",
    "padrao = re.compile(r\".com/?$\")\n",
    "for item in informacoes:\n",
    "    print(item)\n",
    "    resultado = re.findall(padrao, item)\n",
    "    print(resultado)"
   ]
  },
  {
   "cell_type": "markdown",
   "id": "75d2f588",
   "metadata": {},
   "source": [
    "- [^] - diferente de um caractere especificado logo após o ^"
   ]
  },
  {
   "cell_type": "code",
   "execution_count": null,
   "id": "a58b953c",
   "metadata": {},
   "outputs": [],
   "source": [
    "import re\n",
    "\n",
    "padrao = re.compile(r\"http[a-z:/]+\\.[^g].+\")\n",
    "for item in informacoes:\n",
    "    print(item)\n",
    "    resultado = re.findall(padrao, item)\n",
    "    print(resultado)"
   ]
  },
  {
   "cell_type": "code",
   "execution_count": null,
   "id": "c1cf24cf",
   "metadata": {},
   "outputs": [],
   "source": []
  }
 ],
 "metadata": {
  "kernelspec": {
   "display_name": "Python 3 (ipykernel)",
   "language": "python",
   "name": "python3"
  },
  "language_info": {
   "codemirror_mode": {
    "name": "ipython",
    "version": 3
   },
   "file_extension": ".py",
   "mimetype": "text/x-python",
   "name": "python",
   "nbconvert_exporter": "python",
   "pygments_lexer": "ipython3",
   "version": "3.9.13"
  }
 },
 "nbformat": 4,
 "nbformat_minor": 5
}
